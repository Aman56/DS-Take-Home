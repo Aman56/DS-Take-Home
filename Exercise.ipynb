{
 "cells": [
  {
   "cell_type": "code",
   "execution_count": 1,
   "metadata": {},
   "outputs": [
    {
     "data": {
      "text/html": [
       "<style>.container { width:98% !important; }</style>"
      ],
      "text/plain": [
       "<IPython.core.display.HTML object>"
      ]
     },
     "metadata": {},
     "output_type": "display_data"
    }
   ],
   "source": [
    "from IPython.display import display, HTML, Markdown\n",
    "display(HTML(\"<style>.container { width:98% !important; }</style>\"))\n",
    "\n",
    "import pandas as pd\n",
    "pd.set_option(\"display.max_columns\",999)\n",
    "pd.options.display.max_rows = 9999\n",
    "pd.set_option('display.float_format', lambda x: '%.3f' % x)"
   ]
  },
  {
   "cell_type": "code",
   "execution_count": 2,
   "metadata": {},
   "outputs": [
    {
     "data": {
      "text/html": [
       "<div>\n",
       "<style scoped>\n",
       "    .dataframe tbody tr th:only-of-type {\n",
       "        vertical-align: middle;\n",
       "    }\n",
       "\n",
       "    .dataframe tbody tr th {\n",
       "        vertical-align: top;\n",
       "    }\n",
       "\n",
       "    .dataframe thead th {\n",
       "        text-align: right;\n",
       "    }\n",
       "</style>\n",
       "<table border=\"1\" class=\"dataframe\">\n",
       "  <thead>\n",
       "    <tr style=\"text-align: right;\">\n",
       "      <th></th>\n",
       "      <th>LogId</th>\n",
       "      <th>EmailSentDateTimeUtc</th>\n",
       "      <th>EmailCampaignId</th>\n",
       "      <th>EmailOpenedDateTimeUtc</th>\n",
       "      <th>EmailClickedDateTimeUtc</th>\n",
       "      <th>UserId</th>\n",
       "      <th>ZipCode</th>\n",
       "      <th>AddressData</th>\n",
       "    </tr>\n",
       "  </thead>\n",
       "  <tbody>\n",
       "    <tr>\n",
       "      <th>0</th>\n",
       "      <td>208728980120</td>\n",
       "      <td>2019-07-31 15:13:25.817</td>\n",
       "      <td>792229022220</td>\n",
       "      <td>NaN</td>\n",
       "      <td>NaN</td>\n",
       "      <td>851332105693</td>\n",
       "      <td>NaN</td>\n",
       "      <td>NaN</td>\n",
       "    </tr>\n",
       "    <tr>\n",
       "      <th>1</th>\n",
       "      <td>292563123584</td>\n",
       "      <td>2019-08-02 02:15:52.447</td>\n",
       "      <td>866429603262</td>\n",
       "      <td>2019-08-02 15:16:01.7533333</td>\n",
       "      <td>NaN</td>\n",
       "      <td>369293054977</td>\n",
       "      <td>NaN</td>\n",
       "      <td>NaN</td>\n",
       "    </tr>\n",
       "    <tr>\n",
       "      <th>2</th>\n",
       "      <td>72552047640</td>\n",
       "      <td>2019-08-07 16:21:37.293</td>\n",
       "      <td>383130475294</td>\n",
       "      <td>NaN</td>\n",
       "      <td>NaN</td>\n",
       "      <td>938684493058</td>\n",
       "      <td>NaN</td>\n",
       "      <td>NaN</td>\n",
       "    </tr>\n",
       "    <tr>\n",
       "      <th>3</th>\n",
       "      <td>1089121462891</td>\n",
       "      <td>2019-08-07 16:38:03.323</td>\n",
       "      <td>792229022220</td>\n",
       "      <td>NaN</td>\n",
       "      <td>NaN</td>\n",
       "      <td>50233193142</td>\n",
       "      <td>NaN</td>\n",
       "      <td>NaN</td>\n",
       "    </tr>\n",
       "    <tr>\n",
       "      <th>4</th>\n",
       "      <td>828770719378</td>\n",
       "      <td>2019-08-12 11:45:43.293</td>\n",
       "      <td>479810600058</td>\n",
       "      <td>NaN</td>\n",
       "      <td>NaN</td>\n",
       "      <td>369293054977</td>\n",
       "      <td>NaN</td>\n",
       "      <td>NaN</td>\n",
       "    </tr>\n",
       "  </tbody>\n",
       "</table>\n",
       "</div>"
      ],
      "text/plain": [
       "           LogId     EmailSentDateTimeUtc  EmailCampaignId  \\\n",
       "0   208728980120  2019-07-31 15:13:25.817     792229022220   \n",
       "1   292563123584  2019-08-02 02:15:52.447     866429603262   \n",
       "2    72552047640  2019-08-07 16:21:37.293     383130475294   \n",
       "3  1089121462891  2019-08-07 16:38:03.323     792229022220   \n",
       "4   828770719378  2019-08-12 11:45:43.293     479810600058   \n",
       "\n",
       "        EmailOpenedDateTimeUtc EmailClickedDateTimeUtc        UserId  ZipCode  \\\n",
       "0                          NaN                     NaN  851332105693      NaN   \n",
       "1  2019-08-02 15:16:01.7533333                     NaN  369293054977      NaN   \n",
       "2                          NaN                     NaN  938684493058      NaN   \n",
       "3                          NaN                     NaN   50233193142      NaN   \n",
       "4                          NaN                     NaN  369293054977      NaN   \n",
       "\n",
       "  AddressData  \n",
       "0         NaN  \n",
       "1         NaN  \n",
       "2         NaN  \n",
       "3         NaN  \n",
       "4         NaN  "
      ]
     },
     "metadata": {},
     "output_type": "display_data"
    },
    {
     "data": {
      "text/html": [
       "<div>\n",
       "<style scoped>\n",
       "    .dataframe tbody tr th:only-of-type {\n",
       "        vertical-align: middle;\n",
       "    }\n",
       "\n",
       "    .dataframe tbody tr th {\n",
       "        vertical-align: top;\n",
       "    }\n",
       "\n",
       "    .dataframe thead th {\n",
       "        text-align: right;\n",
       "    }\n",
       "</style>\n",
       "<table border=\"1\" class=\"dataframe\">\n",
       "  <thead>\n",
       "    <tr style=\"text-align: right;\">\n",
       "      <th></th>\n",
       "      <th>UserId</th>\n",
       "      <th>DateOfActivityPST</th>\n",
       "      <th>ActivityCount</th>\n",
       "    </tr>\n",
       "  </thead>\n",
       "  <tbody>\n",
       "    <tr>\n",
       "      <th>0</th>\n",
       "      <td>241710509395</td>\n",
       "      <td>2019-09-24</td>\n",
       "      <td>29</td>\n",
       "    </tr>\n",
       "    <tr>\n",
       "      <th>1</th>\n",
       "      <td>241710509395</td>\n",
       "      <td>2020-09-11</td>\n",
       "      <td>60</td>\n",
       "    </tr>\n",
       "    <tr>\n",
       "      <th>2</th>\n",
       "      <td>435228414681</td>\n",
       "      <td>2018-01-06</td>\n",
       "      <td>12</td>\n",
       "    </tr>\n",
       "    <tr>\n",
       "      <th>3</th>\n",
       "      <td>435228414681</td>\n",
       "      <td>2018-04-20</td>\n",
       "      <td>20</td>\n",
       "    </tr>\n",
       "    <tr>\n",
       "      <th>4</th>\n",
       "      <td>435228414681</td>\n",
       "      <td>2018-05-10</td>\n",
       "      <td>136</td>\n",
       "    </tr>\n",
       "  </tbody>\n",
       "</table>\n",
       "</div>"
      ],
      "text/plain": [
       "         UserId DateOfActivityPST  ActivityCount\n",
       "0  241710509395        2019-09-24             29\n",
       "1  241710509395        2020-09-11             60\n",
       "2  435228414681        2018-01-06             12\n",
       "3  435228414681        2018-04-20             20\n",
       "4  435228414681        2018-05-10            136"
      ]
     },
     "metadata": {},
     "output_type": "display_data"
    }
   ],
   "source": [
    "df_emails = pd.read_csv('email_data.csv',delimiter=',')\n",
    "display(df_emails.head())\n",
    "\n",
    "df_activity = pd.read_csv('activity_data.csv',delimiter=',')\n",
    "display(df_activity.head())"
   ]
  },
  {
   "cell_type": "markdown",
   "metadata": {},
   "source": [
    "**QUESTION 1**"
   ]
  },
  {
   "cell_type": "code",
   "execution_count": 3,
   "metadata": {},
   "outputs": [
    {
     "name": "stdout",
     "output_type": "stream",
     "text": [
      "Total Number of rows in the Email dataset = 474163\n",
      "Total Number of rows in the Activity dataset = 4559973\n",
      "Total Number of Emails sent over the period = 15805433\n"
     ]
    }
   ],
   "source": [
    "# Total number of rows in the two datasets are\n",
    "\n",
    "print(\"Total Number of rows in the Email dataset = {val_email}\".format(val_email = len(df_emails)))\n",
    "print(\"Total Number of rows in the Activity dataset = {val_activity}\".format(val_activity = len(df_activity)))\n",
    "\n",
    "# Given that this log of emails is just 3% of all emails sent over the period.\n",
    "sent = len(df_emails)\n",
    "total = (sent*100)/3\n",
    "\n",
    "print(\"Total Number of Emails sent over the period = {sent_email}\".format(sent_email = int(total)))"
   ]
  },
  {
   "cell_type": "markdown",
   "metadata": {},
   "source": [
    "**QUESTION 2**"
   ]
  },
  {
   "cell_type": "code",
   "execution_count": 14,
   "metadata": {},
   "outputs": [],
   "source": [
    "#Importing libraries for date/time manipulations\n",
    "from datetime import datetime\n",
    "from pytz import timezone\n",
    "import pytz"
   ]
  },
  {
   "cell_type": "code",
   "execution_count": 15,
   "metadata": {},
   "outputs": [
    {
     "name": "stdout",
     "output_type": "stream",
     "text": [
      "Most recent date & time is: 04/19/2021 06:45\n",
      "Earliest date & time is: 01/03/2018 20:29\n"
     ]
    }
   ],
   "source": [
    "#Setting new column that converts series objects to datetime objects\n",
    "df_emails['EmailSentDateTimeUtc_new'] = pd.to_datetime(df_emails['EmailSentDateTimeUtc'])\n",
    "\n",
    "# Setting this new column as the index of the dataframe to perform conversions.\n",
    "# Specifically set it to the index because tz applies operations on the index and not the data\n",
    "df_emails.set_index('EmailSentDateTimeUtc_new', drop=False,inplace=True)\n",
    "\n",
    "# Covert to Pacific Time from UTC\n",
    "df_emails.index = df_emails.index.tz_localize('UTC').tz_convert('US/Pacific')\n",
    "\n",
    "# Output date-time format\n",
    "date_format='%m/%d/%Y %H:%M'\n",
    "\n",
    "# Most Recent Date\n",
    "date_recent = max(df_emails.index)\n",
    "# Earliest Date\n",
    "date_earliest = min(df_emails.index)\n",
    "\n",
    "print('Most recent date & time is:', date_recent.strftime(date_format))\n",
    "print('Earliest date & time is:', date_earliest.strftime(date_format))\n"
   ]
  },
  {
   "cell_type": "markdown",
   "metadata": {},
   "source": [
    "**QUESTION 3**"
   ]
  },
  {
   "cell_type": "code",
   "execution_count": 42,
   "metadata": {},
   "outputs": [
    {
     "data": {
      "text/html": [
       "<div>\n",
       "<style scoped>\n",
       "    .dataframe tbody tr th:only-of-type {\n",
       "        vertical-align: middle;\n",
       "    }\n",
       "\n",
       "    .dataframe tbody tr th {\n",
       "        vertical-align: top;\n",
       "    }\n",
       "\n",
       "    .dataframe thead th {\n",
       "        text-align: right;\n",
       "    }\n",
       "</style>\n",
       "<table border=\"1\" class=\"dataframe\">\n",
       "  <thead>\n",
       "    <tr style=\"text-align: right;\">\n",
       "      <th></th>\n",
       "      <th>Zipcode</th>\n",
       "      <th>Counts</th>\n",
       "    </tr>\n",
       "  </thead>\n",
       "  <tbody>\n",
       "    <tr>\n",
       "      <th>0</th>\n",
       "      <td>63301</td>\n",
       "      <td>312</td>\n",
       "    </tr>\n",
       "    <tr>\n",
       "      <th>1</th>\n",
       "      <td>33801</td>\n",
       "      <td>310</td>\n",
       "    </tr>\n",
       "    <tr>\n",
       "      <th>2</th>\n",
       "      <td>34210</td>\n",
       "      <td>299</td>\n",
       "    </tr>\n",
       "    <tr>\n",
       "      <th>3</th>\n",
       "      <td>38301</td>\n",
       "      <td>295</td>\n",
       "    </tr>\n",
       "    <tr>\n",
       "      <th>4</th>\n",
       "      <td>67460</td>\n",
       "      <td>285</td>\n",
       "    </tr>\n",
       "    <tr>\n",
       "      <th>5</th>\n",
       "      <td>95971</td>\n",
       "      <td>277</td>\n",
       "    </tr>\n",
       "    <tr>\n",
       "      <th>6</th>\n",
       "      <td>42301</td>\n",
       "      <td>266</td>\n",
       "    </tr>\n",
       "    <tr>\n",
       "      <th>7</th>\n",
       "      <td>36104</td>\n",
       "      <td>254</td>\n",
       "    </tr>\n",
       "    <tr>\n",
       "      <th>8</th>\n",
       "      <td>40769</td>\n",
       "      <td>234</td>\n",
       "    </tr>\n",
       "    <tr>\n",
       "      <th>9</th>\n",
       "      <td>85225</td>\n",
       "      <td>229</td>\n",
       "    </tr>\n",
       "  </tbody>\n",
       "</table>\n",
       "</div>"
      ],
      "text/plain": [
       "   Zipcode  Counts\n",
       "0    63301     312\n",
       "1    33801     310\n",
       "2    34210     299\n",
       "3    38301     295\n",
       "4    67460     285\n",
       "5    95971     277\n",
       "6    42301     266\n",
       "7    36104     254\n",
       "8    40769     234\n",
       "9    85225     229"
      ]
     },
     "execution_count": 42,
     "metadata": {},
     "output_type": "execute_result"
    }
   ],
   "source": [
    "# Groupby emails by zipcode and print count of emails received\n",
    "df_zip = df_emails.groupby(by='ZipCode')\n",
    "# Setting the head count to 10 as we need only the top 10 values.\n",
    "s = df_zip.size().sort_values(ascending=False).head(10)\n",
    "pd.DataFrame({'Zipcode':s.index.astype(int), 'Counts':s.values})"
   ]
  },
  {
   "cell_type": "markdown",
   "metadata": {},
   "source": [
    "**QUESTION 4**"
   ]
  },
  {
   "cell_type": "code",
   "execution_count": 46,
   "metadata": {},
   "outputs": [],
   "source": [
    "# Library for plotting\n",
    "import matplotlib.pyplot as plt"
   ]
  },
  {
   "cell_type": "code",
   "execution_count": 44,
   "metadata": {},
   "outputs": [],
   "source": [
    "#Manipulate dataframe to add a month-year column\n",
    "df_emails['month']=df_emails.index.month\n",
    "df_emails['year'] = df_emails.index.year\n",
    "\n",
    "# Groupby emails by month and year\n",
    "df_group = df_emails.groupby(by=['year','month'])\n",
    "\n",
    "# Get total number of emails sent in every group\n",
    "total_val = df_group.size().to_list()\n",
    "\n",
    "#Representation List for further plots\n",
    "cons = []\n",
    "for i,g in enumerate(df_group):\n",
    "    cons.append(str(g[0][1])+'/'+ str(g[0][0]))"
   ]
  },
  {
   "cell_type": "code",
   "execution_count": 45,
   "metadata": {},
   "outputs": [],
   "source": [
    "# List of distinct users in each group\n",
    "dist_val = []\n",
    "for i,g in enumerate(df_group):\n",
    "    count = 0\n",
    "    df4 = g[1].groupby(by='UserId')\n",
    "    dist_val.append(len(df4))"
   ]
  },
  {
   "cell_type": "code",
   "execution_count": 47,
   "metadata": {},
   "outputs": [],
   "source": [
    "# List of percentages of active users per group\n",
    "per = []\n",
    "for i,g in enumerate(df_group):\n",
    "    df6 = g[1].UserId.isin(df_activity.UserId)\n",
    "    df6 = df6[df6.values == True]\n",
    "    count = len(df6)\n",
    "    per.append((count/total_val[i])*100)"
   ]
  },
  {
   "cell_type": "code",
   "execution_count": 56,
   "metadata": {},
   "outputs": [
    {
     "data": {
      "image/png": "[encoded data removed]",
      "text/plain": [
       "<Figure size 1080x576 with 2 Axes>"
      ]
     },
     "metadata": {
      "needs_background": "light"
     },
     "output_type": "display_data"
    }
   ],
   "source": [
    "fig, ax1 = plt.subplots(figsize=(15,8))\n",
    "\n",
    "# Overwriting x axis labels with group names\n",
    "xi = list(range(len(cons)))\n",
    "\n",
    "# Plotting Distinct User per Group\n",
    "color = 'tab:red' # Color of the plot\n",
    "ax1.set_xlabel('Year/Months') # X axis label\n",
    "ax1.set_ylabel('Distinct Users', color=color) # Y axis label with color distinction\n",
    "ax1.tick_params(axis='y', labelcolor=color) # Y axis values with color distinction\n",
    "ax1.set_xticks(xi,x,rotation=90) # Rotating the names of the x axis for better visualization\n",
    "ax1.plot(cons, dist_val, color=color,label='Distinct Users')\n",
    "\n",
    "# instantiate a second axes that shares the same x-axis\n",
    "ax2 = ax1.twinx()\n",
    "\n",
    "\"\"\"\n",
    "NOTE: We will not set any x-axis formatting for the second plot as both plots share the same axis which is already formatted.\n",
    "\"\"\"\n",
    "\n",
    "#Plotting % of Active Users per group\n",
    "color = 'tab:blue' # Color of the plot\n",
    "ax2.set_ylabel('Percentage of Active Users', color=color) # Y axis label with color distinction\n",
    "ax2.tick_params(axis='y', labelcolor=color) # Y axis values with color distinction\n",
    "ax2.plot(cons, per, color=color, label='% Acitve Users')\n",
    "\n",
    "\n",
    "fig.tight_layout()\n",
    "ax1.legend(loc = 'lower right')\n",
    "ax2.legend(loc = 'upper right')\n",
    "plt.show()"
   ]
  }
 ],
 "metadata": {
  "kernelspec": {
   "display_name": "Python 3 (ipykernel)",
   "language": "python",
   "name": "python3"
  },
  "language_info": {
   "codemirror_mode": {
    "name": "ipython",
    "version": 3
   },
   "file_extension": ".py",
   "mimetype": "text/x-python",
   "name": "python",
   "nbconvert_exporter": "python",
   "pygments_lexer": "ipython3",
   "version": "3.9.10"
  }
 },
 "nbformat": 4,
 "nbformat_minor": 4
}
